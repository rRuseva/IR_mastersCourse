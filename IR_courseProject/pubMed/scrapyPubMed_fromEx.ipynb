{
 "cells": [
  {
   "cell_type": "markdown",
   "metadata": {},
   "source": [
    "# Scrapy test for pubMed "
   ]
  },
  {
   "cell_type": "markdown",
   "metadata": {},
   "source": [
    "1. Scrape the page for links with articles from https://www.ncbi.nlm.nih.gov/pmc/\n",
    "2. Scrape each article for histological images and their caption\n",
    "3. Save the found data into single html file;"
   ]
  },
  {
   "cell_type": "code",
   "execution_count": 1,
   "metadata": {},
   "outputs": [
    {
     "data": {
      "text/plain": [
       "'3.6.4'"
      ]
     },
     "execution_count": 1,
     "metadata": {},
     "output_type": "execute_result"
    }
   ],
   "source": [
    "### Import Scrapy\n",
    "# Settings for notebook\n",
    "from IPython.core.interactiveshell import InteractiveShell\n",
    "InteractiveShell.ast_node_interactivity = \"all\"\n",
    "# Show Python version\n",
    "import platform\n",
    "platform.python_version()"
   ]
  },
  {
   "cell_type": "code",
   "execution_count": 2,
   "metadata": {},
   "outputs": [],
   "source": [
    "try:\n",
    "    import scrapy\n",
    "except:\n",
    "    !pip install scrapy\n",
    "    import scrapy\n",
    "from scrapy.crawler import CrawlerProcess\n",
    "import logging\n",
    "\n",
    "from twisted.internet import reactor, defer\n",
    "from scrapy.crawler import CrawlerRunner\n",
    "from scrapy.utils.log import configure_logging"
   ]
  },
  {
   "cell_type": "code",
   "execution_count": 3,
   "metadata": {},
   "outputs": [],
   "source": [
    "### global variables\n",
    "root_url = 'https://www.ncbi.nlm.nih.gov'\n",
    "articleUrls = []\n",
    "articleUrlsCount = 0\n",
    "imagesCount = 0 \n"
   ]
  },
  {
   "cell_type": "code",
   "execution_count": 4,
   "metadata": {},
   "outputs": [],
   "source": [
    "#defining the spider for collecting articles\n",
    "\n",
    "class pubMedArticlesSpider(scrapy.Spider):\n",
    "    name = \"pubMedArticles\"\n",
    "    start_urls = [\n",
    "        'https://ncbi.nlm.nih.gov/pmc/issues/359201/'\n",
    "    ]\n",
    "    \n",
    "    def parse(self, response):\n",
    "        urls = response.xpath('//div[contains(@class, \"title\")]/a/@href')        \n",
    "        n = len(urls)\n",
    "        #print(\"{articleUrlsCount} articles are found\".format(articleUrlsCount=n))        \n",
    "        for article in urls:\n",
    "            url =  root_url + article.get()\n",
    "            articleUrls.append(url)\n",
    "\n",
    "        articleUrlsCount = len(articleUrls)\n",
    "        print(\"articlesCount: \", articleUrlsCount)\n"
   ]
  },
  {
   "cell_type": "code",
   "execution_count": 5,
   "metadata": {},
   "outputs": [],
   "source": [
    "\n",
    "#defining the public medical images spider\n",
    "class medImageSpider(scrapy.Spider):\n",
    "    name = \"medPubImages\"\n",
    "    start_urls = articleUrls\n",
    "#     [\n",
    "#         #'https://pubmed.ncbi.nlm.nih.gov/',\n",
    "#         'https://www.ncbi.nlm.nih.gov/pmc/articles/PMC4924648/',\n",
    "#         'https://www.ncbi.nlm.nih.gov/pmc/articles/PMC6024750/'\n",
    "#         #'https://www.ncbi.nlm.nih.gov/pmc/?term=(cancer)+AND+lung'\n",
    "#     ]\n",
    "#    print(start_urls)\n",
    "    def parse(self, response):\n",
    "        #html = \"<!DOCTYPE html><html><head></head><body>\"\n",
    "        html =\"\"\n",
    "        articleUrl = response.request.url\n",
    "        print (\"URL: \" + articleUrl)\n",
    "        docTitle = response.xpath('//h1[contains(@class, \"content-title\")]').get()\n",
    "        print(\"docTitle: \" + docTitle)\n",
    "\n",
    "        docId = articleUrl.split(\"/\")\n",
    "        #print(docId)\n",
    "        docId = docId[len(docId)-2]\n",
    "        print(\"docId: \" + docId)\n",
    "        figures = response.xpath('//div[contains(@class, \"fig \")]')\n",
    "        \n",
    "        n = len(figures)\n",
    "        print(\"{n} figures are found\".format(n=n))\n",
    "        i = 0 \n",
    "        for figure in figures:\n",
    "            img_link = root_url + figure.xpath('.//img/@src').get()\n",
    "            #print(img_link)\n",
    "            text = figure.xpath('.//div[contains(@class, \"caption\")]').get()\n",
    "            #print(text)\n",
    "            html += \"\"\"{i}<div style=\"font-size: 50%;\" ><a href=\"{article_url}\" target=\"_blank\">Article ID: {docId} {title}</a><div class=\"fig\"><a href=\"{url}\" target=\"_blank\"> \n",
    "                <img src=\"{url}\" style=\"width: 45%; height: 45%;\" />\n",
    "                <a/>{text}</div></div><hr>\"\"\".format(i=i,article_url=articleUrl,docId=docId, title=docTitle,url=img_link, text=text)  \n",
    "            i += 1\n",
    "        #html += \"</body></html>\"\n",
    "        with open(\"medImages4.html\", \"a\", encoding='utf-8') as page:\n",
    "            page.write(html)\n",
    "            page.close()\n",
    "            "
   ]
  },
  {
   "cell_type": "code",
   "execution_count": 6,
   "metadata": {},
   "outputs": [
    {
     "name": "stderr",
     "output_type": "stream",
     "text": [
      "2021-01-17 16:11:41 [scrapy.crawler] INFO: Overridden settings:\n",
      "{'USER_AGENT': 'Mozilla/5.0 (compatible; Googlebot/2.1; '\n",
      "               '+http://www.google.com/bot.html)'}\n",
      "2021-01-17 16:11:41 [scrapy.extensions.telnet] INFO: Telnet Password: 1632ea5b749f46d2\n",
      "2021-01-17 16:11:41 [scrapy.middleware] INFO: Enabled extensions:\n",
      "['scrapy.extensions.corestats.CoreStats',\n",
      " 'scrapy.extensions.telnet.TelnetConsole',\n",
      " 'scrapy.extensions.logstats.LogStats']\n",
      "2021-01-17 16:11:42 [scrapy.middleware] INFO: Enabled downloader middlewares:\n",
      "['scrapy.downloadermiddlewares.httpauth.HttpAuthMiddleware',\n",
      " 'scrapy.downloadermiddlewares.downloadtimeout.DownloadTimeoutMiddleware',\n",
      " 'scrapy.downloadermiddlewares.defaultheaders.DefaultHeadersMiddleware',\n",
      " 'scrapy.downloadermiddlewares.useragent.UserAgentMiddleware',\n",
      " 'scrapy.downloadermiddlewares.retry.RetryMiddleware',\n",
      " 'scrapy.downloadermiddlewares.redirect.MetaRefreshMiddleware',\n",
      " 'scrapy.downloadermiddlewares.httpcompression.HttpCompressionMiddleware',\n",
      " 'scrapy.downloadermiddlewares.redirect.RedirectMiddleware',\n",
      " 'scrapy.downloadermiddlewares.cookies.CookiesMiddleware',\n",
      " 'scrapy.downloadermiddlewares.httpproxy.HttpProxyMiddleware',\n",
      " 'scrapy.downloadermiddlewares.stats.DownloaderStats']\n",
      "2021-01-17 16:11:42 [scrapy.middleware] INFO: Enabled spider middlewares:\n",
      "['scrapy.spidermiddlewares.httperror.HttpErrorMiddleware',\n",
      " 'scrapy.spidermiddlewares.offsite.OffsiteMiddleware',\n",
      " 'scrapy.spidermiddlewares.referer.RefererMiddleware',\n",
      " 'scrapy.spidermiddlewares.urllength.UrlLengthMiddleware',\n",
      " 'scrapy.spidermiddlewares.depth.DepthMiddleware']\n",
      "2021-01-17 16:11:42 [scrapy.middleware] INFO: Enabled item pipelines:\n",
      "[]\n",
      "2021-01-17 16:11:42 [scrapy.core.engine] INFO: Spider opened\n",
      "2021-01-17 16:11:42 [scrapy.extensions.logstats] INFO: Crawled 0 pages (at 0 pages/min), scraped 0 items (at 0 items/min)\n",
      "2021-01-17 16:11:42 [scrapy.extensions.telnet] INFO: Telnet console listening on 127.0.0.1:6023\n"
     ]
    },
    {
     "data": {
      "text/plain": [
       "<Deferred at 0x19c371c8e48>"
      ]
     },
     "execution_count": 6,
     "metadata": {},
     "output_type": "execute_result"
    },
    {
     "name": "stderr",
     "output_type": "stream",
     "text": [
      "2021-01-17 16:11:42 [scrapy.downloadermiddlewares.redirect] DEBUG: Redirecting (301) to <GET https://www.ncbi.nlm.nih.gov/pmc/issues/359201/> from <GET https://ncbi.nlm.nih.gov/pmc/issues/359201/>\n",
      "2021-01-17 16:11:43 [scrapy.core.engine] DEBUG: Crawled (200) <GET https://www.ncbi.nlm.nih.gov/pmc/issues/359201/> (referer: None)\n",
      "2021-01-17 16:11:43 [scrapy.core.engine] INFO: Closing spider (finished)\n",
      "2021-01-17 16:11:43 [scrapy.statscollectors] INFO: Dumping Scrapy stats:\n",
      "{'downloader/request_bytes': 548,\n",
      " 'downloader/request_count': 2,\n",
      " 'downloader/request_method_count/GET': 2,\n",
      " 'downloader/response_bytes': 8386,\n",
      " 'downloader/response_count': 2,\n",
      " 'downloader/response_status_count/200': 1,\n",
      " 'downloader/response_status_count/301': 1,\n",
      " 'elapsed_time_seconds': 1.64882,\n",
      " 'finish_reason': 'finished',\n",
      " 'finish_time': datetime.datetime(2021, 1, 17, 14, 11, 43, 833271),\n",
      " 'log_count/DEBUG': 2,\n",
      " 'log_count/INFO': 10,\n",
      " 'response_received_count': 1,\n",
      " 'scheduler/dequeued': 2,\n",
      " 'scheduler/dequeued/memory': 2,\n",
      " 'scheduler/enqueued': 2,\n",
      " 'scheduler/enqueued/memory': 2,\n",
      " 'start_time': datetime.datetime(2021, 1, 17, 14, 11, 42, 184451)}\n",
      "2021-01-17 16:11:43 [scrapy.core.engine] INFO: Spider closed (finished)\n",
      "2021-01-17 16:11:43 [scrapy.crawler] INFO: Overridden settings:\n",
      "{'USER_AGENT': 'Mozilla/5.0 (compatible; Googlebot/2.1; '\n",
      "               '+http://www.google.com/bot.html)'}\n",
      "2021-01-17 16:11:43 [scrapy.extensions.telnet] INFO: Telnet Password: 69b0cad565bbad13\n",
      "2021-01-17 16:11:43 [scrapy.middleware] INFO: Enabled extensions:\n",
      "['scrapy.extensions.corestats.CoreStats',\n",
      " 'scrapy.extensions.telnet.TelnetConsole',\n",
      " 'scrapy.extensions.logstats.LogStats']\n",
      "2021-01-17 16:11:43 [scrapy.middleware] INFO: Enabled downloader middlewares:\n",
      "['scrapy.downloadermiddlewares.httpauth.HttpAuthMiddleware',\n",
      " 'scrapy.downloadermiddlewares.downloadtimeout.DownloadTimeoutMiddleware',\n",
      " 'scrapy.downloadermiddlewares.defaultheaders.DefaultHeadersMiddleware',\n",
      " 'scrapy.downloadermiddlewares.useragent.UserAgentMiddleware',\n",
      " 'scrapy.downloadermiddlewares.retry.RetryMiddleware',\n",
      " 'scrapy.downloadermiddlewares.redirect.MetaRefreshMiddleware',\n",
      " 'scrapy.downloadermiddlewares.httpcompression.HttpCompressionMiddleware',\n",
      " 'scrapy.downloadermiddlewares.redirect.RedirectMiddleware',\n",
      " 'scrapy.downloadermiddlewares.cookies.CookiesMiddleware',\n",
      " 'scrapy.downloadermiddlewares.httpproxy.HttpProxyMiddleware',\n",
      " 'scrapy.downloadermiddlewares.stats.DownloaderStats']\n",
      "2021-01-17 16:11:43 [scrapy.middleware] INFO: Enabled spider middlewares:\n",
      "['scrapy.spidermiddlewares.httperror.HttpErrorMiddleware',\n",
      " 'scrapy.spidermiddlewares.offsite.OffsiteMiddleware',\n",
      " 'scrapy.spidermiddlewares.referer.RefererMiddleware',\n",
      " 'scrapy.spidermiddlewares.urllength.UrlLengthMiddleware',\n",
      " 'scrapy.spidermiddlewares.depth.DepthMiddleware']\n",
      "2021-01-17 16:11:43 [scrapy.middleware] INFO: Enabled item pipelines:\n",
      "[]\n",
      "2021-01-17 16:11:43 [scrapy.core.engine] INFO: Spider opened\n",
      "2021-01-17 16:11:43 [scrapy.extensions.logstats] INFO: Crawled 0 pages (at 0 pages/min), scraped 0 items (at 0 items/min)\n",
      "2021-01-17 16:11:43 [scrapy.extensions.telnet] INFO: Telnet console listening on 127.0.0.1:6023\n"
     ]
    },
    {
     "name": "stdout",
     "output_type": "stream",
     "text": [
      "articlesCount:  11\n",
      "11 articles are found\n",
      "['https://www.ncbi.nlm.nih.gov/pmc/articles/PMC7279775/', 'https://www.ncbi.nlm.nih.gov/pmc/articles/PMC7279772/', 'https://www.ncbi.nlm.nih.gov/pmc/articles/PMC7279768/', 'https://www.ncbi.nlm.nih.gov/pmc/articles/PMC7279771/', 'https://www.ncbi.nlm.nih.gov/pmc/articles/PMC7279774/', 'https://www.ncbi.nlm.nih.gov/pmc/articles/PMC7279773/', 'https://www.ncbi.nlm.nih.gov/pmc/articles/PMC7279769/', 'https://www.ncbi.nlm.nih.gov/pmc/articles/PMC7279778/', 'https://www.ncbi.nlm.nih.gov/pmc/articles/PMC7279777/', 'https://www.ncbi.nlm.nih.gov/pmc/articles/PMC7279776/', 'https://www.ncbi.nlm.nih.gov/pmc/articles/PMC7279770/']\n"
     ]
    },
    {
     "name": "stderr",
     "output_type": "stream",
     "text": [
      "2021-01-17 16:11:45 [scrapy.core.engine] DEBUG: Crawled (200) <GET https://www.ncbi.nlm.nih.gov/pmc/articles/PMC7279775/> (referer: None)\n",
      "2021-01-17 16:11:45 [scrapy.core.engine] DEBUG: Crawled (200) <GET https://www.ncbi.nlm.nih.gov/pmc/articles/PMC7279774/> (referer: None)\n",
      "2021-01-17 16:11:45 [scrapy.core.engine] DEBUG: Crawled (200) <GET https://www.ncbi.nlm.nih.gov/pmc/articles/PMC7279768/> (referer: None)\n",
      "2021-01-17 16:11:45 [scrapy.core.engine] DEBUG: Crawled (200) <GET https://www.ncbi.nlm.nih.gov/pmc/articles/PMC7279771/> (referer: None)\n"
     ]
    },
    {
     "name": "stdout",
     "output_type": "stream",
     "text": [
      "URL: https://www.ncbi.nlm.nih.gov/pmc/articles/PMC7279775/\n",
      "docTitle: <h1 class=\"content-title\">NOVEL <em>XRCC4</em> MUTATIONS IN AN INFANT WITH MICROCEPHALIC PRIMORDIAL DWARFISM, DILATED CARDIOMYOPATHY, SUBCLINICAL HYPOTHYROIDISM, AND EARLY DEATH: EXPANDING THE PHENOTYPE OF <em>XRCC4</em> MUTATIONS</h1>\n",
      "docId: PMC7279775\n",
      "1 figures are found\n",
      "URL: https://www.ncbi.nlm.nih.gov/pmc/articles/PMC7279774/\n",
      "docTitle: <h1 class=\"content-title\">HYPOTHYROIDISM AND GOITER IN A YOUNG MALE WITH SUSPECTED DIETARY IODINE DEFICIENCY FOLLOWED BY THYROTOXICOSIS AFTER IODINE SUPPLEMENTATION</h1>\n",
      "docId: PMC7279774\n"
     ]
    },
    {
     "name": "stderr",
     "output_type": "stream",
     "text": [
      "2021-01-17 16:11:45 [scrapy.core.engine] DEBUG: Crawled (200) <GET https://www.ncbi.nlm.nih.gov/pmc/articles/PMC7279769/> (referer: None)\n",
      "2021-01-17 16:11:45 [scrapy.core.engine] DEBUG: Crawled (200) <GET https://www.ncbi.nlm.nih.gov/pmc/articles/PMC7279773/> (referer: None)\n",
      "2021-01-17 16:11:45 [scrapy.core.engine] DEBUG: Crawled (200) <GET https://www.ncbi.nlm.nih.gov/pmc/articles/PMC7279772/> (referer: None)\n",
      "2021-01-17 16:11:45 [scrapy.core.engine] DEBUG: Crawled (200) <GET https://www.ncbi.nlm.nih.gov/pmc/articles/PMC7279778/> (referer: None)\n"
     ]
    },
    {
     "name": "stdout",
     "output_type": "stream",
     "text": [
      "2 figures are found\n",
      "URL: https://www.ncbi.nlm.nih.gov/pmc/articles/PMC7279768/\n",
      "docTitle: <h1 class=\"content-title\">RECURRENT PAINFUL HASHIMOTO THYROIDITIS SUCCESSFULLY TREATED BY THYROIDECTOMY</h1>\n",
      "docId: PMC7279768\n",
      "2 figures are found\n",
      "URL: https://www.ncbi.nlm.nih.gov/pmc/articles/PMC7279771/\n",
      "docTitle: <h1 class=\"content-title\">THERAPEUTIC PLASMA EXCHANGE AS A BRIDGE TO TOTAL THYROIDECTOMY IN PATIENTS WITH SEVERE THYROTOXICOSIS</h1>\n",
      "docId: PMC7279771\n",
      "1 figures are found\n",
      "URL: https://www.ncbi.nlm.nih.gov/pmc/articles/PMC7279769/\n",
      "docTitle: <h1 class=\"content-title\">A UNIQUE CASE OF ATEZOLIZUMAB-INDUCED AUTOIMMUNE DIABETES</h1>\n",
      "docId: PMC7279769\n",
      "0 figures are found\n",
      "URL: https://www.ncbi.nlm.nih.gov/pmc/articles/PMC7279773/\n",
      "docTitle: <h1 class=\"content-title\">SPONTANEOUS RESOLUTION OF PRIMARY HYPERCORTISOLISM OF CUSHING DISEASE AFTER PITUITARY HEMORRHAGE</h1>\n",
      "docId: PMC7279773\n",
      "2 figures are found\n",
      "URL: https://www.ncbi.nlm.nih.gov/pmc/articles/PMC7279772/\n",
      "docTitle: <h1 class=\"content-title\">HYPERPROLACTINEMIA IN A TRANSGENDER MALE</h1>\n",
      "docId: PMC7279772\n",
      "0 figures are found\n",
      "URL: https://www.ncbi.nlm.nih.gov/pmc/articles/PMC7279778/\n",
      "docTitle: <h1 class=\"content-title\">THE NOVEL USE OF STEREOTACTIC RADIOTHERAPY FOR REMNANT ADRENAL TISSUE IN NELSON SYNDROME</h1>\n",
      "docId: PMC7279778\n",
      "2 figures are found\n"
     ]
    },
    {
     "name": "stderr",
     "output_type": "stream",
     "text": [
      "2021-01-17 16:11:46 [scrapy.core.engine] DEBUG: Crawled (200) <GET https://www.ncbi.nlm.nih.gov/pmc/articles/PMC7279776/> (referer: None)\n",
      "2021-01-17 16:11:46 [scrapy.core.engine] DEBUG: Crawled (200) <GET https://www.ncbi.nlm.nih.gov/pmc/articles/PMC7279770/> (referer: None)\n",
      "2021-01-17 16:11:46 [scrapy.core.engine] DEBUG: Crawled (200) <GET https://www.ncbi.nlm.nih.gov/pmc/articles/PMC7279777/> (referer: None)\n",
      "2021-01-17 16:11:46 [scrapy.core.engine] INFO: Closing spider (finished)\n",
      "2021-01-17 16:11:46 [scrapy.statscollectors] INFO: Dumping Scrapy stats:\n",
      "{'downloader/request_bytes': 3102,\n",
      " 'downloader/request_count': 11,\n",
      " 'downloader/request_method_count/GET': 11,\n",
      " 'downloader/response_bytes': 213562,\n",
      " 'downloader/response_count': 11,\n",
      " 'downloader/response_status_count/200': 11,\n",
      " 'elapsed_time_seconds': 2.515345,\n",
      " 'finish_reason': 'finished',\n",
      " 'finish_time': datetime.datetime(2021, 1, 17, 14, 11, 46, 499008),\n",
      " 'log_count/DEBUG': 11,\n",
      " 'log_count/INFO': 10,\n",
      " 'response_received_count': 11,\n",
      " 'scheduler/dequeued': 11,\n",
      " 'scheduler/dequeued/memory': 11,\n",
      " 'scheduler/enqueued': 11,\n",
      " 'scheduler/enqueued/memory': 11,\n",
      " 'start_time': datetime.datetime(2021, 1, 17, 14, 11, 43, 983663)}\n",
      "2021-01-17 16:11:46 [scrapy.core.engine] INFO: Spider closed (finished)\n"
     ]
    },
    {
     "name": "stdout",
     "output_type": "stream",
     "text": [
      "URL: https://www.ncbi.nlm.nih.gov/pmc/articles/PMC7279776/\n",
      "docTitle: <h1 class=\"content-title\">A CASE OF ACQUIRED GENERALIZED LIPODYSTROPHY ASSOCIATED WITH PEMBROLIZUMAB IN A PATIENT WITH METASTATIC MALIGNANT MELANOMA</h1>\n",
      "docId: PMC7279776\n",
      "3 figures are found\n",
      "URL: https://www.ncbi.nlm.nih.gov/pmc/articles/PMC7279770/\n",
      "docTitle: <h1 class=\"content-title\">MANIFESTATIONS OF GLUCAGONOMA SYNDROME</h1>\n",
      "docId: PMC7279770\n",
      "4 figures are found\n",
      "URL: https://www.ncbi.nlm.nih.gov/pmc/articles/PMC7279777/\n",
      "docTitle: <h1 class=\"content-title\">LINAGLIPTIN-INDUCED PANCREATITIS</h1>\n",
      "docId: PMC7279777\n",
      "0 figures are found\n"
     ]
    }
   ],
   "source": [
    "### Start the crawlers\n",
    "configure_logging()\n",
    "runner = CrawlerRunner({\n",
    "                'USER_AGENT': 'Mozilla/5.0 (compatible; Googlebot/2.1; +http://www.google.com/bot.html)'\n",
    "            })\n",
    "\n",
    "@defer.inlineCallbacks\n",
    "def crawl():\n",
    "    yield runner.crawl(pubMedArticlesSpider)\n",
    "    print(\"{articleUrlsCount} articles are found\".format(articleUrlsCount = len(articleUrls)))\n",
    "    print(articleUrls)\n",
    "    yield runner.crawl(medImageSpider)\n",
    "    reactor.stop()\n",
    "\n",
    "crawl()\n",
    "reactor.run()\n"
   ]
  }
 ],
 "metadata": {
  "kernelspec": {
   "display_name": "Python 3",
   "language": "python",
   "name": "python3"
  },
  "language_info": {
   "codemirror_mode": {
    "name": "ipython",
    "version": 3
   },
   "file_extension": ".py",
   "mimetype": "text/x-python",
   "name": "python",
   "nbconvert_exporter": "python",
   "pygments_lexer": "ipython3",
   "version": "3.6.4"
  }
 },
 "nbformat": 4,
 "nbformat_minor": 2
}
