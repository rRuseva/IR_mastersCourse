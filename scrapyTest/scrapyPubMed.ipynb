{
 "cells": [
  {
   "cell_type": "markdown",
   "metadata": {},
   "source": [
    "# Scrapy test for pubMed (https://www.ncbi.nlm.nih.gov/pmc/articles/PMC*/)"
   ]
  },
  {
   "cell_type": "markdown",
   "metadata": {},
   "source": [
    "A short test of a Crawler with the Scrapy library to scrape data from a website."
   ]
  },
  {
   "cell_type": "markdown",
   "metadata": {},
   "source": [
    "### Import Scrapy"
   ]
  },
  {
   "cell_type": "code",
   "execution_count": 1,
   "metadata": {},
   "outputs": [
    {
     "data": {
      "text/plain": [
       "'3.6.4'"
      ]
     },
     "execution_count": 1,
     "metadata": {},
     "output_type": "execute_result"
    }
   ],
   "source": [
    "# Settings for notebook\n",
    "from IPython.core.interactiveshell import InteractiveShell\n",
    "InteractiveShell.ast_node_interactivity = \"all\"\n",
    "# Show Python version\n",
    "import platform\n",
    "platform.python_version()"
   ]
  },
  {
   "cell_type": "code",
   "execution_count": 2,
   "metadata": {},
   "outputs": [],
   "source": [
    "try:\n",
    "    import scrapy\n",
    "except:\n",
    "    !pip install scrapy\n",
    "    import scrapy\n",
    "from scrapy.crawler import CrawlerProcess"
   ]
  },
  {
   "cell_type": "code",
   "execution_count": 3,
   "metadata": {},
   "outputs": [],
   "source": [
    "import logging\n",
    "#defining the spider\n",
    "root_url = 'https://www.ncbi.nlm.nih.gov'\n",
    "class medImageSpider(scrapy.Spider):\n",
    "    name = \"medPubImages\"\n",
    "    start_urls = [\n",
    "        #'https://pubmed.ncbi.nlm.nih.gov/',\n",
    "        'https://www.ncbi.nlm.nih.gov/pmc/articles/PMC4924648/',\n",
    "        'https://www.ncbi.nlm.nih.gov/pmc/articles/PMC6024750/'\n",
    "    ]\n",
    "    \n",
    "    def parse(self, response):\n",
    "        articleUrl = response.request.url\n",
    "        print (\"URL: \" + articleUrl)\n",
    "        docTitle = response.xpath('//h1[contains(@class, \"content-title\")]').get()\n",
    "        print(docTitle)\n",
    "        docId = response.xpath('//div[contains(@class, \"fig \")]/img/@src').get()\n",
    "        print(docId)\n",
    "        figures = response.xpath('//div[contains(@class, \"fig \")]')\n",
    "        html = \"\"\n",
    "        \n",
    "        n = len(figures)\n",
    "        print(\"{n} figures are found\".format(n=n))\n",
    "        nAll = 0\n",
    "        for figure in figures:\n",
    "            img_link = root_url + figure.xpath('.//img/@src').get()\n",
    "            #print(img_link)\n",
    "            text = figure.xpath('.//div[contains(@class, \"caption\")]').get()\n",
    "            #print(text)\n",
    "            html += \"\"\"<div ><h3><a href=\"{article_url}\" target=\"_blank\"> {title}</a></h3><div class=\"fig\"><a href=\"{url}\" target=\"_blank\"> \n",
    "                <img src=\"{url}\" />\n",
    "                <a/>{text}</div></div><hr>\"\"\".format(article_url=articleUrl, title=docTitle,url=img_link, text=text)\n",
    "            nAll += 1\n",
    "        print(nAll)    \n",
    "        with open(\"medImages4.html\", \"a\", encoding='utf-8') as page:\n",
    "            page.write(html)\n",
    "            page.close()\n",
    "\n",
    "\n",
    "            "
   ]
  },
  {
   "cell_type": "markdown",
   "metadata": {},
   "source": [
    "### Start the crawler"
   ]
  },
  {
   "cell_type": "code",
   "execution_count": 4,
   "metadata": {},
   "outputs": [
    {
     "name": "stderr",
     "output_type": "stream",
     "text": [
      "2021-01-10 15:05:14 [scrapy.utils.log] INFO: Scrapy 2.4.1 started (bot: scrapybot)\n",
      "2021-01-10 15:05:14 [scrapy.utils.log] INFO: Versions: lxml 4.6.2.0, libxml2 2.9.5, cssselect 1.1.0, parsel 1.6.0, w3lib 1.22.0, Twisted 20.3.0, Python 3.6.4 (v3.6.4:d48eceb, Dec 19 2017, 06:54:40) [MSC v.1900 64 bit (AMD64)], pyOpenSSL 20.0.1 (OpenSSL 1.1.1i  8 Dec 2020), cryptography 3.3.1, Platform Windows-10-10.0.19041-SP0\n",
      "2021-01-10 15:05:14 [scrapy.utils.log] DEBUG: Using reactor: twisted.internet.selectreactor.SelectReactor\n",
      "2021-01-10 15:05:14 [scrapy.crawler] INFO: Overridden settings:\n",
      "{}\n",
      "2021-01-10 15:05:14 [scrapy.extensions.telnet] INFO: Telnet Password: bf7ae20bb5a757c8\n",
      "2021-01-10 15:05:14 [scrapy.middleware] INFO: Enabled extensions:\n",
      "['scrapy.extensions.corestats.CoreStats',\n",
      " 'scrapy.extensions.telnet.TelnetConsole',\n",
      " 'scrapy.extensions.logstats.LogStats']\n",
      "2021-01-10 15:05:15 [scrapy.middleware] INFO: Enabled downloader middlewares:\n",
      "['scrapy.downloadermiddlewares.httpauth.HttpAuthMiddleware',\n",
      " 'scrapy.downloadermiddlewares.downloadtimeout.DownloadTimeoutMiddleware',\n",
      " 'scrapy.downloadermiddlewares.defaultheaders.DefaultHeadersMiddleware',\n",
      " 'scrapy.downloadermiddlewares.useragent.UserAgentMiddleware',\n",
      " 'scrapy.downloadermiddlewares.retry.RetryMiddleware',\n",
      " 'scrapy.downloadermiddlewares.redirect.MetaRefreshMiddleware',\n",
      " 'scrapy.downloadermiddlewares.httpcompression.HttpCompressionMiddleware',\n",
      " 'scrapy.downloadermiddlewares.redirect.RedirectMiddleware',\n",
      " 'scrapy.downloadermiddlewares.cookies.CookiesMiddleware',\n",
      " 'scrapy.downloadermiddlewares.httpproxy.HttpProxyMiddleware',\n",
      " 'scrapy.downloadermiddlewares.stats.DownloaderStats']\n",
      "2021-01-10 15:05:15 [scrapy.middleware] INFO: Enabled spider middlewares:\n",
      "['scrapy.spidermiddlewares.httperror.HttpErrorMiddleware',\n",
      " 'scrapy.spidermiddlewares.offsite.OffsiteMiddleware',\n",
      " 'scrapy.spidermiddlewares.referer.RefererMiddleware',\n",
      " 'scrapy.spidermiddlewares.urllength.UrlLengthMiddleware',\n",
      " 'scrapy.spidermiddlewares.depth.DepthMiddleware']\n",
      "2021-01-10 15:05:15 [scrapy.middleware] INFO: Enabled item pipelines:\n",
      "[]\n",
      "2021-01-10 15:05:15 [scrapy.core.engine] INFO: Spider opened\n",
      "2021-01-10 15:05:15 [scrapy.extensions.logstats] INFO: Crawled 0 pages (at 0 pages/min), scraped 0 items (at 0 items/min)\n",
      "2021-01-10 15:05:15 [scrapy.extensions.telnet] INFO: Telnet console listening on 127.0.0.1:6023\n"
     ]
    },
    {
     "data": {
      "text/plain": [
       "<Deferred at 0x249f45bed30>"
      ]
     },
     "execution_count": 4,
     "metadata": {},
     "output_type": "execute_result"
    },
    {
     "name": "stderr",
     "output_type": "stream",
     "text": [
      "2021-01-10 15:05:16 [scrapy.core.engine] DEBUG: Crawled (200) <GET https://www.ncbi.nlm.nih.gov/pmc/articles/PMC4924648/> (referer: None)\n"
     ]
    },
    {
     "name": "stdout",
     "output_type": "stream",
     "text": [
      "URL: https://www.ncbi.nlm.nih.gov/pmc/articles/PMC4924648/\n",
      "<h1 class=\"content-title\">Clinicopathologic, molecular, and prognostic implications of the loss of EPCAM expression in colorectal carcinoma</h1>\n",
      "None\n",
      "4 figures are found\n",
      "4\n"
     ]
    },
    {
     "name": "stderr",
     "output_type": "stream",
     "text": [
      "2021-01-10 15:05:18 [scrapy.core.engine] DEBUG: Crawled (200) <GET https://www.ncbi.nlm.nih.gov/pmc/articles/PMC6024750/> (referer: None)\n",
      "2021-01-10 15:05:18 [scrapy.core.engine] INFO: Closing spider (finished)\n",
      "2021-01-10 15:05:18 [scrapy.statscollectors] INFO: Dumping Scrapy stats:\n",
      "{'downloader/request_bytes': 488,\n",
      " 'downloader/request_count': 2,\n",
      " 'downloader/request_method_count/GET': 2,\n",
      " 'downloader/response_bytes': 295311,\n",
      " 'downloader/response_count': 2,\n",
      " 'downloader/response_status_count/200': 2,\n",
      " 'elapsed_time_seconds': 2.819616,\n",
      " 'finish_reason': 'finished',\n",
      " 'finish_time': datetime.datetime(2021, 1, 10, 13, 5, 18, 481699),\n",
      " 'log_count/DEBUG': 2,\n",
      " 'log_count/INFO': 10,\n",
      " 'response_received_count': 2,\n",
      " 'scheduler/dequeued': 2,\n",
      " 'scheduler/dequeued/memory': 2,\n",
      " 'scheduler/enqueued': 2,\n",
      " 'scheduler/enqueued/memory': 2,\n",
      " 'start_time': datetime.datetime(2021, 1, 10, 13, 5, 15, 662083)}\n",
      "2021-01-10 15:05:18 [scrapy.core.engine] INFO: Spider closed (finished)\n"
     ]
    },
    {
     "name": "stdout",
     "output_type": "stream",
     "text": [
      "URL: https://www.ncbi.nlm.nih.gov/pmc/articles/PMC6024750/\n",
      "<h1 class=\"content-title\">Colorectal Cancer: Genetic Abnormalities, Tumor Progression, Tumor Heterogeneity, Clonal Evolution and Tumor-Initiating Cells</h1>\n",
      "None\n",
      "11 figures are found\n",
      "11\n"
     ]
    }
   ],
   "source": [
    "process = CrawlerProcess({\n",
    "})\n",
    "process.crawl(medImageSpider)\n",
    "process.start()\n"
   ]
  },
  {
   "cell_type": "code",
   "execution_count": null,
   "metadata": {},
   "outputs": [],
   "source": []
  }
 ],
 "metadata": {
  "kernelspec": {
   "display_name": "Python 3",
   "language": "python",
   "name": "python3"
  },
  "language_info": {
   "codemirror_mode": {
    "name": "ipython",
    "version": 3
   },
   "file_extension": ".py",
   "mimetype": "text/x-python",
   "name": "python",
   "nbconvert_exporter": "python",
   "pygments_lexer": "ipython3",
   "version": "3.6.4"
  }
 },
 "nbformat": 4,
 "nbformat_minor": 2
}
