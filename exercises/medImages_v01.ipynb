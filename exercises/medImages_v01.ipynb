{
 "cells": [
  {
   "cell_type": "code",
   "execution_count": 20,
   "metadata": {},
   "outputs": [],
   "source": [
    "### imports\n",
    "import json\n",
    "from nltk.tokenize import sent_tokenize, TweetTokenizer\n",
    "from string import punctuation\n",
    "import re\n",
    "import regex\n",
    "tokenizer = TweetTokenizer()\n",
    "from nltk.corpus import stopwords\n",
    "stopW = stopwords.words('english')\n",
    "#nltk.download('stopwords')"
   ]
  },
  {
   "cell_type": "code",
   "execution_count": 21,
   "metadata": {},
   "outputs": [
    {
     "data": {
      "text/plain": [
       "{'articleId': 'PMC7282154',\n",
       " 'image_path': 'PMC7282154-6_i2376-0605-6-2-e50-f06.jpg',\n",
       " 'image_url': 'https://www.ncbi.nlm.nih.gov/pmc/articles/PMC7282154/bin/i2376-0605-6-2-e50-f06.jpg',\n",
       " 'articleUrl': 'https://www.ncbi.nlm.nih.gov/pmc/articles/PMC7282154/',\n",
       " 'articleTitle': 'RECURRENT INVASIVE DUCTAL BREAST CARCINOMA PRESENTING AS PRIMARY ADRENAL INSUFFICIENCY WITH ADRENAL CRISIS',\n",
       " 'caption': 'Histologic section of adrenal metastatic disease (hematoxylin and eosin, Г—100). Tumor cells arranged in solid nests infiltrating lymph node tissue.'}"
      ]
     },
     "execution_count": 21,
     "metadata": {},
     "output_type": "execute_result"
    }
   ],
   "source": [
    "### a method to Read a json file with img captions and article titles and parse it into set of documents\n",
    "\n",
    "\n",
    "\n",
    "def getDocs(sourcePath):\n",
    "    medDocs = []\n",
    "    sourceFile = open(sourcePath, 'r')\n",
    "\n",
    "    count = 1\n",
    "    for line in sourceFile:\n",
    "        medDocs.append(json.loads(line))\n",
    "        count += 1\n",
    "\n",
    "    sourceFile.close()\n",
    "    \n",
    "    # for k in range(1,count):\n",
    "    #     print(str(k) + \" : \" + medDocs[k]['docId'])\n",
    "    return medDocs\n",
    "\n",
    "\n",
    "sourcePath = 'assets/medImages.jl'\n",
    "medDocs = getDocs(sourcePath)\n",
    "medDocs[262]"
   ]
  },
  {
   "cell_type": "code",
   "execution_count": 22,
   "metadata": {},
   "outputs": [
    {
     "name": "stdout",
     "output_type": "stream",
     "text": [
      "263\n"
     ]
    },
    {
     "data": {
      "text/plain": [
       "{'articleId': 'PMC7282154',\n",
       " 'image_path': 'PMC7282154-6_i2376-0605-6-2-e50-f06.jpg',\n",
       " 'image_url': 'https://www.ncbi.nlm.nih.gov/pmc/articles/PMC7282154/bin/i2376-0605-6-2-e50-f06.jpg',\n",
       " 'articleUrl': 'https://www.ncbi.nlm.nih.gov/pmc/articles/PMC7282154/',\n",
       " 'articleTitle': ['recurrent',\n",
       "  'invasive',\n",
       "  'ductal',\n",
       "  'breast',\n",
       "  'carcinoma',\n",
       "  'presenting',\n",
       "  'primary',\n",
       "  'adrenal',\n",
       "  'insufficiency',\n",
       "  'with',\n",
       "  'adrenal',\n",
       "  'crisis'],\n",
       " 'caption': ['histologic',\n",
       "  'section',\n",
       "  'adrenal',\n",
       "  'metastatic',\n",
       "  'disease',\n",
       "  'tumor',\n",
       "  'cells',\n",
       "  'arranged',\n",
       "  'solid',\n",
       "  'nests',\n",
       "  'infiltrating',\n",
       "  'lymph',\n",
       "  'node',\n",
       "  'tissue']}"
      ]
     },
     "execution_count": 22,
     "metadata": {},
     "output_type": "execute_result"
    }
   ],
   "source": [
    "# method that cleans the title and caption text in each document\n",
    "# the result is tokenized titles and caption without unwanted brackets, numbers, spaces, tags, unicode charts;\n",
    "# result includes no punctuation and stopwards and tokens with length less than 2 symbols\n",
    "# all tokens are lower case\n",
    "\n",
    "\n",
    "from nltk.corpus import stopwords\n",
    "stopW = stopwords.words('english')\n",
    "\n",
    "def preprocessContent(content):\n",
    "    sentences = sent_tokenize(content)\n",
    "    tokens = []\n",
    "    for sent in sentences:\n",
    "        # removes unicode\n",
    "        cleanedTokens = re.sub(r'[^\\x00-\\x7F]+', ' ', sent)\n",
    "        # removes menions\n",
    "        cleanedTokens = re.sub(r'@\\w+', '', cleanedTokens)\n",
    "        # removes numbers\n",
    "        cleanedTokens = re.sub('[0-9]+', '', cleanedTokens)\n",
    "        # removes nested brackets \n",
    "        cleanedTokens = regex.sub(r'\\([^()]*+(?:(?R)[^()]*)*+\\)', '', cleanedTokens) \n",
    "        # removes nested currly brackets\n",
    "        cleanedTokens = regex.sub('\\{(?:[^}{]|\\{[^}{]*\\})*\\}', '', cleanedTokens) \n",
    "        # removes html tags\n",
    "        cleanedTokens = re.sub('\\<+/*\\w*/*\\>+', '', cleanedTokens)\n",
    "        # removes punctuation\n",
    "        cleanedTokens = re.sub(r'[%s]' % re.escape(punctuation), ' ', cleanedTokens)\n",
    "        # removes doubled spaces\n",
    "        cleanedTokens = re.sub(r'\\s{2,}', ' ', cleanedTokens)\n",
    "        sentTokens = tokenizer.tokenize(cleanedTokens)\n",
    "        sentTokens = [tok.lower() for tok in sentTokens if not tok in stopW and len(tok) > 2]\n",
    "        \n",
    "        tokens += sentTokens\n",
    "    return tokens\n",
    "\n",
    "\n",
    "def cleanDocs(medDocs):\n",
    "    cleanedDocs = medDocs\n",
    "    for i, doc in enumerate(cleanedDocs):\n",
    "        doc['articleTitle'] = preprocessContent(doc['articleTitle'] )\n",
    "        doc['caption'] = preprocessContent(doc['caption'])\n",
    "\n",
    "    return cleanedDocs\n",
    "\n",
    "cleanedDocs = cleanDocs(medDocs)\n",
    "print(len(cleanedDocs))\n",
    "cleanedDocs[262]\n"
   ]
  },
  {
   "cell_type": "code",
   "execution_count": null,
   "metadata": {},
   "outputs": [],
   "source": []
  }
 ],
 "metadata": {
  "kernelspec": {
   "display_name": "Python 3",
   "language": "python",
   "name": "python3"
  },
  "language_info": {
   "codemirror_mode": {
    "name": "ipython",
    "version": 3
   },
   "file_extension": ".py",
   "mimetype": "text/x-python",
   "name": "python",
   "nbconvert_exporter": "python",
   "pygments_lexer": "ipython3",
   "version": "3.6.4"
  }
 },
 "nbformat": 4,
 "nbformat_minor": 2
}
