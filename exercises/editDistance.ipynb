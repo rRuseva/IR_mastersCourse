{
 "cells": [
  {
   "cell_type": "code",
   "execution_count": 70,
   "metadata": {},
   "outputs": [
    {
     "name": "stdout",
     "output_type": "stream",
     "text": [
      "[[0. 1. 2. 3. 4.]\n",
      " [1. 1. 2. 3. 4.]\n",
      " [2. 2. 1. 2. 3.]\n",
      " [3. 3. 2. 2. 2.]\n",
      " [4. 4. 3. 2. 3.]]\n",
      "3.0\n"
     ]
    }
   ],
   "source": [
    "import numpy as np\n",
    "\n",
    "def editDist(s1, s2):\n",
    "    m = len(s1) + 1\n",
    "    n = len(s2) + 1\n",
    "    \n",
    "    dp = np.zeros((m,n))\n",
    "    \n",
    "    for i in range(0,m):\n",
    "        dp[i,0] = i\n",
    "    for j in range(0,n):\n",
    "        dp[0,j] = j\n",
    "    \n",
    "    for i in range(1,m):\n",
    "        for j in range(1,n):\n",
    "#             print(dp[i,j])\n",
    "#             print(s1[i-1] + \" - \" + s2[j-1])\n",
    "\n",
    "            dp[i,j] = min( dp[i-1,j-1] + 1 if s1[i-1] != s2[j-1] else dp[i-1,j-1],  \n",
    "                          dp[i-1,j] + 1,\n",
    "                          dp[i,j-1] + 1             \n",
    "                )\n",
    "#             else:\n",
    "#                 dp[i,j] = min(dp[i-1,j-1],\n",
    "#                               dp[i-1,j] + 1,\n",
    "#                               dp[i,j-1] + 1             \n",
    "#                 )\n",
    "    print(dp)\n",
    "    return dp[m-1,n-1]\n",
    "\n",
    "\n",
    "s1 = \"fast\"\n",
    "s2 = \"cats\"\n",
    "\n",
    "print(editDist(s1,s2))"
   ]
  },
  {
   "cell_type": "code",
   "execution_count": null,
   "metadata": {},
   "outputs": [],
   "source": []
  },
  {
   "cell_type": "code",
   "execution_count": null,
   "metadata": {},
   "outputs": [],
   "source": []
  }
 ],
 "metadata": {
  "kernelspec": {
   "display_name": "Python 3",
   "language": "python",
   "name": "python3"
  },
  "language_info": {
   "codemirror_mode": {
    "name": "ipython",
    "version": 3
   },
   "file_extension": ".py",
   "mimetype": "text/x-python",
   "name": "python",
   "nbconvert_exporter": "python",
   "pygments_lexer": "ipython3",
   "version": "3.6.4"
  }
 },
 "nbformat": 4,
 "nbformat_minor": 2
}
