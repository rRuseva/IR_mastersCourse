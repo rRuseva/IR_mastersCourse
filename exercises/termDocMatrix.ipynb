{
 "cells": [
  {
   "cell_type": "code",
   "execution_count": 14,
   "metadata": {},
   "outputs": [],
   "source": [
    "\n",
    "# Collection of documents (corpus)\n",
    "\n",
    "review_1 = \"The Glider II is a great soccer ball\"\n",
    "review_2 = \"What a bad soccer ball\"\n",
    "review_3 = \"I am happy with The glider\"\n",
    "\n",
    "docs = [review_1, review_2, review_3]"
   ]
  },
  {
   "cell_type": "code",
   "execution_count": 21,
   "metadata": {},
   "outputs": [
    {
     "name": "stdout",
     "output_type": "stream",
     "text": [
      "['Glider', 'I', 'II', 'The', 'What', 'a', 'am', 'bad', 'ball', 'glider', 'great', 'happy', 'is', 'soccer', 'with']\n"
     ]
    }
   ],
   "source": [
    "# list of terms\n",
    "uniqueTerms = {term for doc in docs for term in doc.split()}\n",
    "uniqueTerms = sorted(uniqueTerms)\n",
    "print(uniqueTerms)"
   ]
  },
  {
   "cell_type": "code",
   "execution_count": 22,
   "metadata": {},
   "outputs": [
    {
     "data": {
      "text/plain": [
       "{'Glider': [1, 0, 0],\n",
       " 'I': [1, 0, 1],\n",
       " 'II': [1, 0, 0],\n",
       " 'The': [1, 0, 1],\n",
       " 'What': [0, 1, 0],\n",
       " 'a': [1, 1, 1],\n",
       " 'am': [0, 0, 1],\n",
       " 'bad': [0, 1, 0],\n",
       " 'ball': [1, 1, 0],\n",
       " 'glider': [0, 0, 1],\n",
       " 'great': [1, 0, 0],\n",
       " 'happy': [0, 0, 1],\n",
       " 'is': [1, 0, 0],\n",
       " 'soccer': [1, 1, 0],\n",
       " 'with': [0, 0, 1]}"
      ]
     },
     "execution_count": 22,
     "metadata": {},
     "output_type": "execute_result"
    }
   ],
   "source": [
    "#constructing document-term Matrix\n",
    "\n",
    "docTermM = {}\n",
    "\n",
    "for term in uniqueTerms:\n",
    "    docTermM[term] = []\n",
    "    \n",
    "    for doc in docs:\n",
    "        if term in doc:\n",
    "            docTermM[term].append(1)\n",
    "        else:\n",
    "            docTermM[term].append(0)\n",
    "            \n",
    "docTermM"
   ]
  },
  {
   "cell_type": "code",
   "execution_count": 29,
   "metadata": {},
   "outputs": [
    {
     "name": "stdout",
     "output_type": "stream",
     "text": [
      "[1 0 0]\n",
      "[1 1 0]\n",
      "Glider AND soccer\n",
      "[1 0 0]\n"
     ]
    },
    {
     "data": {
      "text/plain": [
       "['The Glider II is a great soccer ball']"
      ]
     },
     "execution_count": 29,
     "metadata": {},
     "output_type": "execute_result"
    }
   ],
   "source": [
    "# Boolean queries\n",
    "import numpy as np\n",
    "\n",
    "v1= np.array(docTermM['Glider'])\n",
    "v2 = np.array(docTermM['soccer'])\n",
    "\n",
    "print(v1)\n",
    "print(v2)\n",
    "print(\"Glider AND soccer\")\n",
    "v3 = v1 & v2\n",
    "print(v3)\n",
    "[doc for doc in v3*docArray if doc]\n"
   ]
  },
  {
   "cell_type": "code",
   "execution_count": 30,
   "metadata": {},
   "outputs": [
    {
     "name": "stdout",
     "output_type": "stream",
     "text": [
      "Glider OR soccer\n",
      "[1 1 0]\n"
     ]
    },
    {
     "data": {
      "text/plain": [
       "['The Glider II is a great soccer ball', 'What a bad soccer ball']"
      ]
     },
     "execution_count": 30,
     "metadata": {},
     "output_type": "execute_result"
    }
   ],
   "source": [
    "\n",
    "\n",
    "print(\"Glider OR soccer\")\n",
    "v3 = v1 | v2\n",
    "print(v3)\n",
    "[doc for doc in v3*docArray if doc]"
   ]
  },
  {
   "cell_type": "code",
   "execution_count": null,
   "metadata": {},
   "outputs": [],
   "source": [
    " "
   ]
  }
 ],
 "metadata": {
  "kernelspec": {
   "display_name": "Python 3",
   "language": "python",
   "name": "python3"
  },
  "language_info": {
   "codemirror_mode": {
    "name": "ipython",
    "version": 3
   },
   "file_extension": ".py",
   "mimetype": "text/x-python",
   "name": "python",
   "nbconvert_exporter": "python",
   "pygments_lexer": "ipython3",
   "version": "3.6.4"
  }
 },
 "nbformat": 4,
 "nbformat_minor": 2
}
