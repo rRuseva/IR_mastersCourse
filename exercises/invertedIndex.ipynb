{
 "cells": [
  {
   "cell_type": "code",
   "execution_count": 1,
   "metadata": {},
   "outputs": [],
   "source": [
    "# Collection of documents (corpus)\n",
    "\n",
    "review_1 = \"The Glider II is a great soccer ball\"\n",
    "review_2 = \"What a bad soccer ball\"\n",
    "review_3 = \"I am happy with The glider\"\n",
    "\n",
    "docs = [review_1, review_2, review_3]"
   ]
  },
  {
   "cell_type": "code",
   "execution_count": 2,
   "metadata": {},
   "outputs": [
    {
     "name": "stdout",
     "output_type": "stream",
     "text": [
      "['Glider', 'I', 'II', 'The', 'What', 'a', 'am', 'bad', 'ball', 'glider', 'great', 'happy', 'is', 'soccer', 'with']\n"
     ]
    }
   ],
   "source": [
    "# list of terms\n",
    "uniqueTerms = {term for doc in docs for term in doc.split()}\n",
    "uniqueTerms = sorted(uniqueTerms)\n",
    "print(uniqueTerms)"
   ]
  },
  {
   "cell_type": "code",
   "execution_count": 3,
   "metadata": {},
   "outputs": [
    {
     "data": {
      "text/plain": [
       "{'The': {0, 2},\n",
       " 'Glider': {0},\n",
       " 'II': {0},\n",
       " 'is': {0},\n",
       " 'a': {0, 1},\n",
       " 'great': {0},\n",
       " 'soccer': {0, 1},\n",
       " 'ball': {0, 1},\n",
       " 'What': {1},\n",
       " 'bad': {1},\n",
       " 'I': {2},\n",
       " 'am': {2},\n",
       " 'happy': {2},\n",
       " 'with': {2},\n",
       " 'glider': {2}}"
      ]
     },
     "execution_count": 3,
     "metadata": {},
     "output_type": "execute_result"
    }
   ],
   "source": [
    "# constructing inverted index\n",
    "\n",
    "invertedIdx = {}\n",
    "\n",
    "for i, doc in enumerate(docs):\n",
    "    for term in doc.split():\n",
    "        if term in invertedIdx:\n",
    "            invertedIdx[term].add(i)\n",
    "        else:\n",
    "            invertedIdx[term] = {i}\n",
    "invertedIdx\n",
    "            "
   ]
  },
  {
   "cell_type": "code",
   "execution_count": 5,
   "metadata": {},
   "outputs": [
    {
     "data": {
      "text/plain": [
       "{0, 1}"
      ]
     },
     "execution_count": 5,
     "metadata": {},
     "output_type": "execute_result"
    }
   ],
   "source": [
    "postingList = invertedIdx['ball']\n",
    "postingList"
   ]
  },
  {
   "cell_type": "code",
   "execution_count": 6,
   "metadata": {},
   "outputs": [],
   "source": [
    "# Boolean operations:"
   ]
  },
  {
   "cell_type": "code",
   "execution_count": 12,
   "metadata": {},
   "outputs": [],
   "source": [
    "def orPostings(posting1, posting2):\n",
    "    p1 = 0\n",
    "    p2 = 0\n",
    "    result = list()\n",
    "    n1 = len(posting1)\n",
    "    n2 = len(posting2)\n",
    "    while p1 < n1 and p2 <n2:\n",
    "        if posting1[p1] == posting2[p2]:\n",
    "            result.append(posting1[p1])\n",
    "            p1 += 1\n",
    "            p2 += 1\n",
    "        elif posting1[p1] >posting2[p2]:\n",
    "            result.append(posting2[p2])\n",
    "            p2 += 1\n",
    "        else:\n",
    "            result.append(posting1[p1])\n",
    "            p1 += 1\n",
    "    while p1 < n1:\n",
    "        result.append(posting1[p1])\n",
    "        p1 += 1\n",
    "    while p2 < n2:\n",
    "        result.append(posting2[p2])\n",
    "        p2 += 1\n",
    "    return result"
   ]
  },
  {
   "cell_type": "code",
   "execution_count": 13,
   "metadata": {},
   "outputs": [
    {
     "data": {
      "text/plain": [
       "[0, 1, 2]"
      ]
     },
     "execution_count": 13,
     "metadata": {},
     "output_type": "execute_result"
    }
   ],
   "source": [
    "\n",
    "pl_1 = list(invertedIdx['soccer'])\n",
    "pl_2 = list(invertedIdx['glider'])\n",
    "orPostings(pl_1, pl_2)"
   ]
  },
  {
   "cell_type": "code",
   "execution_count": 17,
   "metadata": {},
   "outputs": [],
   "source": [
    "def andPostings(posting1, posting2):\n",
    "    p1 = 0\n",
    "    p2 = 0\n",
    "    n1 = len(posting1)\n",
    "    n2 = len(posting2)\n",
    "    result = list()\n",
    "    \n",
    "    while p1 < n1 and p2 < n2:\n",
    "        if posting1[p1] == posting2[p2]:\n",
    "            result.append(posting1[p1])\n",
    "            p1 += 1\n",
    "            p2 += 1\n",
    "        elif posting1[p1] > posting2[p2]:\n",
    "            p2 += 1\n",
    "        else:\n",
    "            p1 += 1\n",
    "            \n",
    "    return result \n",
    "        "
   ]
  },
  {
   "cell_type": "code",
   "execution_count": 20,
   "metadata": {},
   "outputs": [
    {
     "data": {
      "text/plain": [
       "[0, 1]"
      ]
     },
     "execution_count": 20,
     "metadata": {},
     "output_type": "execute_result"
    }
   ],
   "source": [
    "pl_1 = list(invertedIdx['soccer'])\n",
    "pl_2 = list(invertedIdx['ball'])\n",
    "andPostings(pl_1, pl_2)"
   ]
  },
  {
   "cell_type": "code",
   "execution_count": null,
   "metadata": {},
   "outputs": [],
   "source": []
  }
 ],
 "metadata": {
  "kernelspec": {
   "display_name": "Python 3",
   "language": "python",
   "name": "python3"
  },
  "language_info": {
   "codemirror_mode": {
    "name": "ipython",
    "version": 3
   },
   "file_extension": ".py",
   "mimetype": "text/x-python",
   "name": "python",
   "nbconvert_exporter": "python",
   "pygments_lexer": "ipython3",
   "version": "3.6.4"
  }
 },
 "nbformat": 4,
 "nbformat_minor": 2
}
