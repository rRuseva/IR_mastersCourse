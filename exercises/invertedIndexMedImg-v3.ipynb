{
 "cells": [
  {
   "cell_type": "code",
   "execution_count": 1,
   "metadata": {},
   "outputs": [],
   "source": [
    "### imports\n",
    "import json\n",
    "from copy import deepcopy\n",
    "\n",
    "from nltk.tokenize import sent_tokenize, TweetTokenizer\n",
    "from string import punctuation\n",
    "import re\n",
    "import regex\n",
    "tokenizer = TweetTokenizer()\n",
    "from nltk.corpus import stopwords\n",
    "stopW = stopwords.words('english')\n",
    "# stopW = ['a', 'about', 'above', 'after', 'again', 'against', 'ain', 'all', 'am', 'an', 'and', 'any', 'are', 'aren', \"aren't\", 'as', 'at', 'be', 'because', 'been', 'before', 'being', 'below', 'between', 'both', 'but', 'by', 'can', 'couldn', \"couldn't\", 'd', 'did', 'didn', \"didn't\", 'do', 'does', 'doesn', \"doesn't\", 'doing', 'don', \"don't\", 'down', 'during', 'each', 'few', 'for', 'from', 'further', 'had', 'hadn', \"hadn't\", 'has', 'hasn', \"hasn't\", 'have', 'haven', \"haven't\", 'having', 'he', 'her', 'here', 'hers', 'herself', 'him', 'himself', 'his', 'how', 'i', 'if', 'in', 'into', 'is', 'isn', \"isn't\", 'it', \"it's\", 'its', 'itself', 'just', 'll', 'm', 'ma', 'me', 'mightn', \"mightn't\", 'more', 'most', 'mustn', \"mustn't\", 'my', 'myself', 'needn', \"needn't\", 'no', 'nor', 'not', 'now', 'o', 'of', 'off', 'on', 'once', 'only', 'or', 'other', 'our', 'ours', 'ourselves', 'out', 'over', 'own', 're', 's', 'same', 'shan', \"shan't\", 'she', \"she's\", 'should', \"should've\", 'shouldn', \"shouldn't\", 'so', 'some', 'such', 't', 'than', 'that', \"that'll\", 'the', 'their', 'theirs', 'them', 'themselves', 'then', 'there', 'these', 'they', 'this', 'those', 'through', 'to', 'too', 'under', 'until', 'up', 've', 'very', 'was', 'wasn', \"wasn't\", 'we', 'were', 'weren', \"weren't\", 'what', 'when', 'where', 'which', 'while', 'who', 'whom', 'why', 'will', 'with', 'won', \"won't\", 'wouldn', \"wouldn't\", 'y', 'you', \"you'd\", \"you'll\", \"you're\", \"you've\", 'your', 'yours', 'yourself', 'yourselves']\n",
    "# print(sorted(stopW))"
   ]
  },
  {
   "cell_type": "code",
   "execution_count": 2,
   "metadata": {},
   "outputs": [
    {
     "ename": "NameError",
     "evalue": "name 'medDocs' is not defined",
     "output_type": "error",
     "traceback": [
      "\u001b[1;31m---------------------------------------------------------------------------\u001b[0m",
      "\u001b[1;31mNameError\u001b[0m                                 Traceback (most recent call last)",
      "\u001b[1;32m<ipython-input-2-256fd40b21fa>\u001b[0m in \u001b[0;36m<module>\u001b[1;34m()\u001b[0m\n\u001b[0;32m     18\u001b[0m \u001b[1;33m\u001b[0m\u001b[0m\n\u001b[0;32m     19\u001b[0m \u001b[0msourcePath\u001b[0m \u001b[1;33m=\u001b[0m \u001b[1;34m'assets/medImages.jl'\u001b[0m\u001b[1;33m\u001b[0m\u001b[0m\n\u001b[1;32m---> 20\u001b[1;33m \u001b[0mprint\u001b[0m\u001b[1;33m(\u001b[0m\u001b[0mlen\u001b[0m\u001b[1;33m(\u001b[0m\u001b[0mmedDocs\u001b[0m\u001b[1;33m)\u001b[0m\u001b[1;33m)\u001b[0m\u001b[1;33m\u001b[0m\u001b[0m\n\u001b[0m\u001b[0;32m     21\u001b[0m \u001b[0mmedDocs\u001b[0m \u001b[1;33m=\u001b[0m \u001b[0mgetDocs\u001b[0m\u001b[1;33m(\u001b[0m\u001b[0msourcePath\u001b[0m\u001b[1;33m)\u001b[0m\u001b[1;33m\u001b[0m\u001b[0m\n\u001b[0;32m     22\u001b[0m \u001b[0mmedDocs\u001b[0m\u001b[1;33m[\u001b[0m\u001b[1;36m56\u001b[0m\u001b[1;33m]\u001b[0m\u001b[1;33m\u001b[0m\u001b[0m\n",
      "\u001b[1;31mNameError\u001b[0m: name 'medDocs' is not defined"
     ]
    }
   ],
   "source": [
    "### a method to Read a json file with img captions and article titles and parse it into set of documents\n",
    "\n",
    "def getDocs(sourcePath):\n",
    "    medDocs = []\n",
    "    sourceFile = open(sourcePath, 'r')\n",
    "\n",
    "    count = 1\n",
    "    for line in sourceFile:\n",
    "        medDocs.append(json.loads(line))\n",
    "        count += 1\n",
    "\n",
    "    sourceFile.close()\n",
    "    \n",
    "    # for k in range(1,count):\n",
    "    #     print(str(k) + \" : \" + medDocs[k]['docId'])\n",
    "    return medDocs\n",
    "\n",
    "\n",
    "sourcePath = 'assets/medImages.jl'\n",
    "print(len(medDocs))\n",
    "medDocs = getDocs(sourcePath)\n",
    "medDocs[56]"
   ]
  },
  {
   "cell_type": "code",
   "execution_count": null,
   "metadata": {},
   "outputs": [],
   "source": [
    "# method that cleans the title and caption text in each document\n",
    "# the result is tokenized titles and caption without unwanted brackets, numbers, spaces, tags, unicode charts;\n",
    "# result includes no punctuation and stopwards and tokens with length less than 2 symbols\n",
    "# all tokens are lower case\n",
    "\n",
    "\n",
    "def preprocessContent(content):\n",
    "    sentences = sent_tokenize(content)\n",
    "    tokens = []\n",
    "    for sent in sentences:\n",
    "        # removes unicode\n",
    "        cleanedTokens = re.sub(r'[^\\x00-\\x7F]+', ' ', sent)\n",
    "        # removes menions\n",
    "        cleanedTokens = re.sub(r'@\\w+', '', cleanedTokens)\n",
    "        # removes numbers\n",
    "#         cleanedTokens = re.sub('[0-9]+', '', cleanedTokens)\n",
    "        # removes nested brackets \n",
    "        cleanedTokens = regex.sub(r'\\([^()]*+(?:(?R)[^()]*)*+\\)', '', cleanedTokens) \n",
    "        # removes nested currly brackets\n",
    "        cleanedTokens = regex.sub('\\{(?:[^}{]|\\{[^}{]*\\})*\\}', '', cleanedTokens) \n",
    "        # removes html tags\n",
    "        cleanedTokens = re.sub('\\<+/*\\w*/*\\>+', '', cleanedTokens)\n",
    "        # removes punctuation\n",
    "        cleanedTokens = re.sub(r'[%s]' % re.escape(punctuation), ' ', cleanedTokens)\n",
    "        # removes doubled spaces\n",
    "        cleanedTokens = re.sub(r'\\s{2,}', ' ', cleanedTokens)\n",
    "        sentTokens = tokenizer.tokenize(cleanedTokens)\n",
    "        # lower case each token and removes tokens with length less than 2\n",
    "        sentTokens = [tok.lower() for tok in sentTokens if len(tok) >2]\n",
    "        # removes stop words \n",
    "        sentTokens2 = [tok for tok in sentTokens if not tok.lower() in stopW ]\n",
    "        tokens += sentTokens2\n",
    "    return tokens\n",
    "\n",
    "\n",
    "def cleanDocs(medDocs):\n",
    "    cleanedDocs = deepcopy(medDocs)\n",
    "    for i, doc in enumerate(cleanedDocs):\n",
    "        doc['articleTitle'] = preprocessContent(doc['articleTitle'] )\n",
    "        for j, cap in enumerate(doc['caption']):\n",
    "            doc['caption'][j] = preprocessContent(cap)\n",
    "    return cleanedDocs\n",
    "\n",
    "cleanedDocs = cleanDocs(medDocs)"
   ]
  },
  {
   "cell_type": "code",
   "execution_count": null,
   "metadata": {},
   "outputs": [],
   "source": [
    "print(len(cleanedDocs))\n",
    "print(medDocs[0])\n",
    "print(cleanedDocs[0])\n",
    "# cleanedDocs[262]"
   ]
  },
  {
   "cell_type": "code",
   "execution_count": null,
   "metadata": {},
   "outputs": [],
   "source": [
    "# constructing inverted index\n",
    "def getInvertedIdx(medDocs):\n",
    "    invertedIdx = {}\n",
    "\n",
    "    for i, doc in enumerate(medDocs):\n",
    "        for term in doc['articleTitle']:\n",
    "            if term in invertedIdx:\n",
    "                invertedIdx[term].add((doc['articleId'],'t'))\n",
    "            else:\n",
    "                invertedIdx[term] = {(doc['articleId'],'t')}\n",
    "        for j, cap in enumerate(doc['caption']):\n",
    "            for term in cap:\n",
    "                if term in invertedIdx:\n",
    "                    invertedIdx[term].add(((doc['articleId'], j, 'c')))\n",
    "                else:\n",
    "                    invertedIdx[term] = {((doc['articleId'], j, 'c'))}\n",
    "    return invertedIdx\n",
    "           \n",
    "termInvIdx = getInvertedIdx(cleanedDocs)\n",
    "termInvIdx\n"
   ]
  },
  {
   "cell_type": "code",
   "execution_count": null,
   "metadata": {},
   "outputs": [],
   "source": [
    "termInvIdx['biopsy']\n"
   ]
  },
  {
   "cell_type": "code",
   "execution_count": null,
   "metadata": {},
   "outputs": [],
   "source": [
    "# Boolean operations:\n",
    "def orPostings(posting1, posting2):\n",
    "    p1 = 0\n",
    "    p2 = 0\n",
    "    result = list()\n",
    "    n1 = len(posting1)\n",
    "    n2 = len(posting2)\n",
    "    while p1 < n1 and p2 <n2:\n",
    "        if posting1[p1] == posting2[p2]:\n",
    "            result.append(posting1[p1])\n",
    "            p1 += 1\n",
    "            p2 += 1\n",
    "        elif posting1[p1] >posting2[p2]:\n",
    "            result.append(posting2[p2])\n",
    "            p2 += 1\n",
    "        else:\n",
    "            result.append(posting1[p1])\n",
    "            p1 += 1\n",
    "    while p1 < n1:\n",
    "        result.append(posting1[p1])\n",
    "        p1 += 1\n",
    "    while p2 < n2:\n",
    "        result.append(posting2[p2])\n",
    "        p2 += 1\n",
    "    return result\n",
    "\n",
    "def andPostings(posting1, posting2):\n",
    "    p1 = 0\n",
    "    p2 = 0\n",
    "    n1 = len(posting1)\n",
    "    n2 = len(posting2)\n",
    "    result = list()\n",
    "    \n",
    "    while p1 < n1 and p2 < n2:\n",
    "        if posting1[p1] == posting2[p2]:\n",
    "            result.append(posting1[p1])\n",
    "            p1 += 1\n",
    "            p2 += 1\n",
    "        elif posting1[p1] > posting2[p2]:\n",
    "            p2 += 1\n",
    "        else:\n",
    "            p1 += 1\n",
    "            \n",
    "    return result \n",
    "        "
   ]
  },
  {
   "cell_type": "code",
   "execution_count": null,
   "metadata": {},
   "outputs": [],
   "source": [
    "\n",
    "pl_1 = list(termInvIdx['biopsy'])\n",
    "pl_2 = list(termInvIdx['tissues'])\n",
    "\n",
    "#pl_3 = list(termInvIdx['histopatology'])\n",
    "#pl_4 = list(termInvIdx['photomicrographs'])\n",
    "\n",
    "\n",
    "pl_5 = list(termInvIdx['case'])\n",
    "pl_6 = list(termInvIdx['report'])\n",
    "\n",
    "orPostings(pl_1, pl_2)\n"
   ]
  },
  {
   "cell_type": "code",
   "execution_count": null,
   "metadata": {},
   "outputs": [],
   "source": [
    "orPostings(pl_5, pl_6)"
   ]
  },
  {
   "cell_type": "code",
   "execution_count": null,
   "metadata": {},
   "outputs": [],
   "source": [
    "\n",
    "andPostings(pl_5, pl_6)"
   ]
  },
  {
   "cell_type": "code",
   "execution_count": null,
   "metadata": {},
   "outputs": [],
   "source": [
    "orPostings(orPostings(pl_1, pl_2), andPostings(pl_5, pl_6))"
   ]
  },
  {
   "cell_type": "code",
   "execution_count": null,
   "metadata": {},
   "outputs": [],
   "source": []
  },
  {
   "cell_type": "code",
   "execution_count": null,
   "metadata": {},
   "outputs": [],
   "source": []
  },
  {
   "cell_type": "code",
   "execution_count": null,
   "metadata": {},
   "outputs": [],
   "source": []
  },
  {
   "cell_type": "code",
   "execution_count": null,
   "metadata": {},
   "outputs": [],
   "source": []
  }
 ],
 "metadata": {
  "kernelspec": {
   "display_name": "Python 3",
   "language": "python",
   "name": "python3"
  },
  "language_info": {
   "codemirror_mode": {
    "name": "ipython",
    "version": 3
   },
   "file_extension": ".py",
   "mimetype": "text/x-python",
   "name": "python",
   "nbconvert_exporter": "python",
   "pygments_lexer": "ipython3",
   "version": "3.6.4"
  }
 },
 "nbformat": 4,
 "nbformat_minor": 2
}
